{
 "cells": [
  {
   "cell_type": "code",
   "execution_count": 17,
   "metadata": {},
   "outputs": [
    {
     "name": "stdout",
     "output_type": "stream",
     "text": [
      "Status Code 200\n",
      "access_token: \n",
      " eyJjdHkiOiJKV1QiLCJlbmMiOiJBMTI4R0NNIiwiYWxnIjoiUlNBLU9BRVAtMjU2In0.c4FUQ1fA4s0e05RgalGg217_-JGGHfB3c7szAhiGy0axT6rpZj7lQii9JQBc_1wpIqUvkA79Gi-zj51eW8AbiJcWWCe_DhAaTgfLXC8GaSbKs8Op6xXOiPa491FqeYyDuhRGDJ3KQFGuou9bjBoeeyLTWEjZ3zbBBdX4lDGUN4lsTl_JVIOPnKY-ZVy_dBxcoIFOfm_96V1tNBnrr6JKwlaZwPUGbjw_I-11Ok4W0mgJx0rtfAmDBcCikNJsszoZW6EWAFUYBCMZIArZaksn203Lhzlqf3C_3jBOUNsRAqPOwqVWJ-GuG7ApjwsKGFbG8QnNOS8sR-ioUxedlHCgIw.PBdp2ygBRE80o6ie.r7X__arVt-7RnUPgLWLUAwy2h51bK1roFHzZSoYUBjkfZPHdy7YlpdkWDfEaLz96rmbTX7F0PkSwsfFatpigjBBrKMWReiCNSA5i6P3i96WbmaSdbcA6IAoBTvOq67lTquY7m4EB5bEWHTA1BhxTsPr1myz7_-2-wX1Z8xkN5ioFaFKZ9N5raTUxvTlAyY23WSR6EIAQs1Ef9O91ETKa-oU-YCWzsNmbemNPCe-ZC3yIYfhwITQoM_MEtWztV3VNolxlCoihDNzPke_6OemTl-RtRXr2nVs_q7PsjVJbtz5cqoEjd5cyoARRx0SGC5NnIOhhpg.2tAVz573auyx42Bj9m97vQ\n",
      "refresh_token: \n",
      " eyJjdHkiOiJKV1QiLCJlbmMiOiJBMTI4R0NNIiwiYWxnIjoiUlNBLU9BRVAtMjU2In0.jG_8IMyFwGok_Ao2YBBTQ56ISp7ACxghj6j6on3UvofEpdPbwez0xNBi-vO8fwVfid48tZXNg2XMDomWE1a25YI5SB8uAlx1rkmXFInaja0ptFxbIFoMBOFEsPIRGDnLE6mmCYCFraOSe38Nkc-dz35J3j_mv2ffZ9FYkGh8oXWcW_KrqDjIn9wlOgQhFsilv0AJ1CpM5AxdvOHhJijWxcqMnTHKEW1mJ1_jXYHK1LQxZBz8nJos9QPNgbHLU22oyEsESh7K9P9NN8cIW_dATfLJcsYMqA0jZcI1qmP5FELM4_l0R2Jqgufws87sFygCU_VT3DK3AMkC6gGPxsudZw.iMRNLEKuivk8gcWs.khQ2rsbTkmxV-RJpspRU2_f3sLTH6fRThRjIjak2TChTGXL4jXqB0BtDJLVLPNIDEcteWXA5zTTWKZGaUjloI2zAhTyLi1lOMVCoZHdhv8ooubQSLGnWEg9V3-2-uYIAk8XKojaJGyARFboefNo3lmfR6DW0SHVSl-QYrtLx7vi71hm_A3x2qFskzCocVCXEq66ECugv6cuzQI21xhmsFMeeN8SofcS8cVNdvL9BbxL6Xw_UvaJckzOd6vcTVAGs3lSYsA5B7fyf2wdFfZ6CFY9sdBfAp24osmbceS0tTOJ11v6xBkIfyGHoRmuzGu4eoaUohA.8jCwV92bUdm67Q6aI2Ag9g\n"
     ]
    }
   ],
   "source": [
    "# log in and get authToken\n",
    "import requests\n",
    "\n",
    "url = \"http://localhost:8080/api/v1/auth/authenticate\"\n",
    "\n",
    "data = {\n",
    "    \"email\" : \"kelvin@email.com\",\n",
    "    \"password\" : \"password\",\n",
    "}\n",
    "\n",
    "response = requests.post(url, json=data)\n",
    "\n",
    "statusCode = response.status_code\n",
    "print(\"Status Code\", response.status_code)\n",
    "if statusCode == 200:\n",
    "    responseJson = response.json()\n",
    "    access_token = responseJson['access_token']\n",
    "    print(\"access_token: \\n\", access_token)\n",
    "    refresh_token = responseJson['refresh_token']\n",
    "    print(\"refresh_token: \\n\", refresh_token)"
   ]
  },
  {
   "cell_type": "code",
   "execution_count": 18,
   "metadata": {},
   "outputs": [
    {
     "name": "stdout",
     "output_type": "stream",
     "text": [
      "Status Code 200\n",
      "[\n",
      "    {\n",
      "        \"currency\": \"USD\",\n",
      "        \"rate\": \"1.26706\"\n",
      "    },\n",
      "    {\n",
      "        \"currency\": \"KES\",\n",
      "        \"rate\": \"162.28\"\n",
      "    }\n",
      "]\n"
     ]
    }
   ],
   "source": [
    "import requests\n",
    "import json\n",
    "\n",
    "url = \"http://localhost:8080/api/v1/rates/getBasicRates\"\n",
    "\n",
    "headers = {\n",
    "    'Content-type': 'application/json',\n",
    "    \"Authorization\": f\"Bearer {access_token}\"\n",
    "}\n",
    "\n",
    "body = {\n",
    "    \"base_currency\" : \"gbp\",\n",
    "    \"other_currencies\": \"usd,kes\"\n",
    "    \n",
    "}\n",
    "response = requests.get(url, headers=headers, json=body)\n",
    "\n",
    "statusCode = response.status_code\n",
    "print(\"Status Code\", response.status_code)\n",
    "if statusCode == 200:\n",
    "    responseJson = response.json()\n",
    "    print(json.dumps(responseJson, indent=4))\n",
    "else:\n",
    "    print(response.text)\n"
   ]
  }
 ],
 "metadata": {
  "kernelspec": {
   "display_name": "Python 3",
   "language": "python",
   "name": "python3"
  },
  "language_info": {
   "codemirror_mode": {
    "name": "ipython",
    "version": 3
   },
   "file_extension": ".py",
   "mimetype": "text/x-python",
   "name": "python",
   "nbconvert_exporter": "python",
   "pygments_lexer": "ipython3",
   "version": "3.10.11"
  }
 },
 "nbformat": 4,
 "nbformat_minor": 2
}
